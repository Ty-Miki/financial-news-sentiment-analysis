{
 "cells": [
  {
   "cell_type": "code",
   "execution_count": 39,
   "metadata": {},
   "outputs": [],
   "source": [
    "# Import necessary libraries\n",
    "\n",
    "import pandas as pd\n",
    "import nltk\n",
    "from nltk.sentiment.vader import SentimentIntensityAnalyzer\n",
    "import numpy as np"
   ]
  },
  {
   "cell_type": "code",
   "execution_count": 40,
   "metadata": {},
   "outputs": [],
   "source": [
    "# Load the dataset\n",
    "file_path = '../data/raw_analyst_ratings.csv'\n",
    "df = pd.read_csv(file_path)"
   ]
  },
  {
   "cell_type": "code",
   "execution_count": 9,
   "metadata": {},
   "outputs": [
    {
     "data": {
      "text/html": [
       "<div>\n",
       "<style scoped>\n",
       "    .dataframe tbody tr th:only-of-type {\n",
       "        vertical-align: middle;\n",
       "    }\n",
       "\n",
       "    .dataframe tbody tr th {\n",
       "        vertical-align: top;\n",
       "    }\n",
       "\n",
       "    .dataframe thead th {\n",
       "        text-align: right;\n",
       "    }\n",
       "</style>\n",
       "<table border=\"1\" class=\"dataframe\">\n",
       "  <thead>\n",
       "    <tr style=\"text-align: right;\">\n",
       "      <th></th>\n",
       "      <th>Unnamed: 0</th>\n",
       "      <th>headline</th>\n",
       "      <th>url</th>\n",
       "      <th>publisher</th>\n",
       "      <th>date</th>\n",
       "      <th>stock</th>\n",
       "      <th>sentiment</th>\n",
       "    </tr>\n",
       "  </thead>\n",
       "  <tbody>\n",
       "    <tr>\n",
       "      <th>0</th>\n",
       "      <td>0</td>\n",
       "      <td>Stocks That Hit 52-Week Highs On Friday</td>\n",
       "      <td>https://www.benzinga.com/news/20/06/16190091/s...</td>\n",
       "      <td>Benzinga Insights</td>\n",
       "      <td>2020-06-05 10:30:54-04:00</td>\n",
       "      <td>A</td>\n",
       "      <td>0.000</td>\n",
       "    </tr>\n",
       "    <tr>\n",
       "      <th>1</th>\n",
       "      <td>1</td>\n",
       "      <td>Stocks That Hit 52-Week Highs On Wednesday</td>\n",
       "      <td>https://www.benzinga.com/news/20/06/16170189/s...</td>\n",
       "      <td>Benzinga Insights</td>\n",
       "      <td>2020-06-03 10:45:20-04:00</td>\n",
       "      <td>A</td>\n",
       "      <td>0.000</td>\n",
       "    </tr>\n",
       "    <tr>\n",
       "      <th>2</th>\n",
       "      <td>2</td>\n",
       "      <td>71 Biggest Movers From Friday</td>\n",
       "      <td>https://www.benzinga.com/news/20/05/16103463/7...</td>\n",
       "      <td>Lisa Levin</td>\n",
       "      <td>2020-05-26 04:30:07-04:00</td>\n",
       "      <td>A</td>\n",
       "      <td>0.000</td>\n",
       "    </tr>\n",
       "    <tr>\n",
       "      <th>3</th>\n",
       "      <td>3</td>\n",
       "      <td>46 Stocks Moving In Friday's Mid-Day Session</td>\n",
       "      <td>https://www.benzinga.com/news/20/05/16095921/4...</td>\n",
       "      <td>Lisa Levin</td>\n",
       "      <td>2020-05-22 12:45:06-04:00</td>\n",
       "      <td>A</td>\n",
       "      <td>0.000</td>\n",
       "    </tr>\n",
       "    <tr>\n",
       "      <th>4</th>\n",
       "      <td>4</td>\n",
       "      <td>B of A Securities Maintains Neutral on Agilent...</td>\n",
       "      <td>https://www.benzinga.com/news/20/05/16095304/b...</td>\n",
       "      <td>Vick Meyer</td>\n",
       "      <td>2020-05-22 11:38:59-04:00</td>\n",
       "      <td>A</td>\n",
       "      <td>0.296</td>\n",
       "    </tr>\n",
       "  </tbody>\n",
       "</table>\n",
       "</div>"
      ],
      "text/plain": [
       "   Unnamed: 0                                           headline  \\\n",
       "0           0            Stocks That Hit 52-Week Highs On Friday   \n",
       "1           1         Stocks That Hit 52-Week Highs On Wednesday   \n",
       "2           2                      71 Biggest Movers From Friday   \n",
       "3           3       46 Stocks Moving In Friday's Mid-Day Session   \n",
       "4           4  B of A Securities Maintains Neutral on Agilent...   \n",
       "\n",
       "                                                 url          publisher  \\\n",
       "0  https://www.benzinga.com/news/20/06/16190091/s...  Benzinga Insights   \n",
       "1  https://www.benzinga.com/news/20/06/16170189/s...  Benzinga Insights   \n",
       "2  https://www.benzinga.com/news/20/05/16103463/7...         Lisa Levin   \n",
       "3  https://www.benzinga.com/news/20/05/16095921/4...         Lisa Levin   \n",
       "4  https://www.benzinga.com/news/20/05/16095304/b...         Vick Meyer   \n",
       "\n",
       "                        date stock  sentiment  \n",
       "0  2020-06-05 10:30:54-04:00     A      0.000  \n",
       "1  2020-06-03 10:45:20-04:00     A      0.000  \n",
       "2  2020-05-26 04:30:07-04:00     A      0.000  \n",
       "3  2020-05-22 12:45:06-04:00     A      0.000  \n",
       "4  2020-05-22 11:38:59-04:00     A      0.296  "
      ]
     },
     "execution_count": 9,
     "metadata": {},
     "output_type": "execute_result"
    }
   ],
   "source": [
    "# Create a copy of the original data\n",
    "sentiment_data = df.copy()\n",
    "\n",
    "# Create a SentimentIntensityAnalyzer object\n",
    "sia = SentimentIntensityAnalyzer()\n",
    "\n",
    "# calculate the sentiment of the headlines\n",
    "sentiment_data['sentiment'] = sentiment_data['headline'].apply(\n",
    "    lambda x: sia.polarity_scores(text=x)['compound']\n",
    ")\n",
    "\n",
    "# Inspect the sentiment data\n",
    "sentiment_data.head()"
   ]
  },
  {
   "cell_type": "code",
   "execution_count": 41,
   "metadata": {},
   "outputs": [
    {
     "name": "stdout",
     "output_type": "stream",
     "text": [
      "<class 'pandas.core.frame.DataFrame'>\n",
      "RangeIndex: 1407328 entries, 0 to 1407327\n",
      "Data columns (total 8 columns):\n",
      " #   Column              Non-Null Count    Dtype   \n",
      "---  ------              --------------    -----   \n",
      " 0   Unnamed: 0          1407328 non-null  int64   \n",
      " 1   headline            1407328 non-null  object  \n",
      " 2   url                 1407328 non-null  object  \n",
      " 3   publisher           1407328 non-null  object  \n",
      " 4   date                1407328 non-null  object  \n",
      " 5   stock               1407328 non-null  object  \n",
      " 6   sentiment           1407328 non-null  float64 \n",
      " 7   sentiment_category  1407328 non-null  category\n",
      "dtypes: category(1), float64(1), int64(1), object(5)\n",
      "memory usage: 76.5+ MB\n"
     ]
    }
   ],
   "source": [
    "sentiment_data.info()"
   ]
  },
  {
   "cell_type": "code",
   "execution_count": 11,
   "metadata": {},
   "outputs": [],
   "source": [
    "# Categorize the sentiment scores\n",
    "sentiment_data['sentiment_category'] = pd.cut(sentiment_data['sentiment'], bins=[-1, -0.5, -0.0001, 0.5, 1],\n",
    "                                              labels=['Very Negative', 'Negative', 'Neutral', 'Positive'])"
   ]
  },
  {
   "cell_type": "code",
   "execution_count": 12,
   "metadata": {},
   "outputs": [
    {
     "data": {
      "text/plain": [
       "sentiment_category\n",
       "Neutral          1070915\n",
       "Negative          182864\n",
       "Positive          109718\n",
       "Very Negative      43831\n",
       "Name: count, dtype: int64"
      ]
     },
     "execution_count": 12,
     "metadata": {},
     "output_type": "execute_result"
    }
   ],
   "source": [
    "# Display catagorized sentiment data\n",
    "sentiment_data['sentiment_category'].value_counts()"
   ]
  },
  {
   "cell_type": "code",
   "execution_count": 15,
   "metadata": {},
   "outputs": [
    {
     "name": "stdout",
     "output_type": "stream",
     "text": [
      "Earliest Date: 2009-02-14 00:00:00\n",
      "Latest Date: 2020-06-11 17:12:35-04:00\n"
     ]
    }
   ],
   "source": [
    "# Inspect the earliest and latest dates in the sentiment_data\n",
    "print(f'Earliest Date: {sentiment_data['date'].min()}')\n",
    "print(f'Latest Date: {sentiment_data['date'].max()}')"
   ]
  },
  {
   "cell_type": "markdown",
   "metadata": {},
   "source": [
    "# Sentiment analysis for the different The main stocks"
   ]
  },
  {
   "cell_type": "markdown",
   "metadata": {},
   "source": [
    "- I have made sentiment analyis for Apple, Amazon, Google, NVIDIA and Tesla."
   ]
  },
  {
   "cell_type": "code",
   "execution_count": 59,
   "metadata": {},
   "outputs": [],
   "source": [
    "# Import the utils modules from the scripts package\n",
    "\n",
    "import os, importlib\n",
    "from pathlib import Path\n",
    "base_dir = Path(os.getcwd()).resolve().parent.parent\n",
    "module_path = Path(base_dir / 'scripts' / 'utils.py')\n",
    "spec = importlib.util.spec_from_file_location(\"utils\", module_path)\n",
    "utils = importlib.util.module_from_spec(spec)\n",
    "spec.loader.exec_module(utils)\n"
   ]
  },
  {
   "cell_type": "code",
   "execution_count": 61,
   "metadata": {},
   "outputs": [
    {
     "name": "stdout",
     "output_type": "stream",
     "text": [
      "Sentiment scores for AAPL\n",
      "sentiment_category\n",
      "Neutral          298\n",
      "Negative          74\n",
      "Positive          43\n",
      "Very Negative     26\n",
      "Name: count, dtype: int64\n",
      "\n",
      "Sentiment scores for AMZN\n",
      "sentiment_category\n",
      "Neutral          201\n",
      "Negative          38\n",
      "Positive          28\n",
      "Very Negative     11\n",
      "Name: count, dtype: int64\n",
      "\n",
      "Sentiment scores for GOOG\n",
      "sentiment_category\n",
      "Neutral          840\n",
      "Negative         169\n",
      "Positive         140\n",
      "Very Negative     50\n",
      "Name: count, dtype: int64\n",
      "\n",
      "Sentiment scores for NVDA\n",
      "sentiment_category\n",
      "Neutral          2393\n",
      "Negative          369\n",
      "Positive          281\n",
      "Very Negative     103\n",
      "Name: count, dtype: int64\n",
      "\n",
      "Sentiment scores for TSLA\n",
      "sentiment_category\n",
      "Neutral          1418\n",
      "Negative          221\n",
      "Positive          172\n",
      "Very Negative      64\n",
      "Name: count, dtype: int64\n",
      "\n"
     ]
    }
   ],
   "source": [
    "# Set the stocks of concern in a list and analyze them\n",
    "\n",
    "stock_names = ['AAPL', 'AMZN', 'GOOG', 'NVDA', 'TSLA']\n",
    "for stock_name in stock_names:\n",
    "    print(f\"Sentiment scores for {stock_name}\")\n",
    "    utils.stock_sentiment_analysis(sentiment_data=sentiment_data,\n",
    "                             stock_name=stock_name)\n",
    "    print()"
   ]
  },
  {
   "cell_type": "code",
   "execution_count": 62,
   "metadata": {},
   "outputs": [
    {
     "name": "stdout",
     "output_type": "stream",
     "text": [
      "Date range analysis for AAPL\n",
      "Earliest Date: 2020-03-09 00:00:00\n",
      "Latest Date: 2020-06-10 11:33:26-04:00\n",
      "\n",
      "Date range analysis for AMZN\n",
      "Earliest Date: 2020-04-27 00:00:00\n",
      "Latest Date: 2020-06-10 13:18:50-04:00\n",
      "\n",
      "Date range analysis for GOOG\n",
      "Earliest Date: 2018-11-13 00:00:00\n",
      "Latest Date: 2020-06-10 15:25:13-04:00\n",
      "\n",
      "Date range analysis for NVDA\n",
      "Earliest Date: 2011-03-03 00:00:00\n",
      "Latest Date: 2020-06-10 12:37:10-04:00\n",
      "\n",
      "Date range analysis for TSLA\n",
      "Earliest Date: 2019-07-01 00:00:00\n",
      "Latest Date: 2020-06-10 17:02:47-04:00\n",
      "\n"
     ]
    }
   ],
   "source": [
    "# Perform the date analysis for all the stocks in stock names\n",
    "for stock_name in stock_names:\n",
    "    print(f\"Date range analysis for {stock_name}\")\n",
    "    utils.inspect_sentiment_dates(sentiment_data=sentiment_data,\n",
    "                             stock_name=stock_name)\n",
    "    print()"
   ]
  }
 ],
 "metadata": {
  "kernelspec": {
   "display_name": "venv",
   "language": "python",
   "name": "python3"
  },
  "language_info": {
   "codemirror_mode": {
    "name": "ipython",
    "version": 3
   },
   "file_extension": ".py",
   "mimetype": "text/x-python",
   "name": "python",
   "nbconvert_exporter": "python",
   "pygments_lexer": "ipython3",
   "version": "3.12.3"
  }
 },
 "nbformat": 4,
 "nbformat_minor": 2
}
